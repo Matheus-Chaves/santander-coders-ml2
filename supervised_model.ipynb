{
 "cells": [
  {
   "cell_type": "markdown",
   "id": "3ee69dbc",
   "metadata": {},
   "source": [
    "# Sobre o projeto"
   ]
  },
  {
   "cell_type": "markdown",
   "id": "895f1978",
   "metadata": {},
   "source": [
    "Conforme a descrição e README deste projeto, o objetivo é realizar uma exploração e modelagem de um modelo de Machine Learning conforme o material visto durante as aulas.\n",
    "\n",
    "Escolhemos construir um **modelo para prever a geração de energia de usinas térmicas** e outro para **detecção de anomalias** com base em suas condições de operação, como temperatura e pressão."
   ]
  },
  {
   "cell_type": "markdown",
   "id": "26f72d49",
   "metadata": {},
   "source": [
    "## Sobre os dados"
   ]
  },
  {
   "cell_type": "markdown",
   "id": "0db67464",
   "metadata": {},
   "source": [
    "Os dados foram obtidos via [Kaggle](https://www.kaggle.com/datasets/gauravduttakiit/power-plant-data/data) e estão na pasta `data`.\n",
    "\n",
    "Eles foram divididos entre treino e teste pelo próprio autor do dataset."
   ]
  },
  {
   "cell_type": "markdown",
   "id": "be02e4cf",
   "metadata": {},
   "source": [
    "## Importações\n",
    "\n",
    "Centralização das importações que serão utilizadas ao longo do arquivo em diversas etapas"
   ]
  },
  {
   "cell_type": "code",
   "execution_count": 29,
   "id": "2a515bc6",
   "metadata": {},
   "outputs": [],
   "source": [
    "from os.path import join\n",
    "\n",
    "# Análise\n",
    "import pandas as pd\n",
    "import numpy as np\n",
    "\n",
    "# Visualização\n",
    "import seaborn as sns\n",
    "import matplotlib.pyplot as plt\n",
    "\n",
    "# Pré-processamento\n",
    "from sklearn.preprocessing import MinMaxScaler\n",
    "from sklearn.model_selection import train_test_split\n",
    "\n",
    "# Machine Learning - Modelos e métricas\n",
    "from sklearn.svm import SVR\n",
    "from sklearn.ensemble import RandomForestRegressor, GradientBoostingRegressor, AdaBoostRegressor, VotingRegressor\n",
    "from xgboost import XGBRegressor\n",
    "from sklearn.metrics import mean_squared_error, r2_score, mean_absolute_error\n",
    "from sklearn.model_selection import GridSearchCV\n",
    "\n",
    "import warnings\n",
    "warnings.filterwarnings('ignore', category=RuntimeWarning)"
   ]
  },
  {
   "cell_type": "markdown",
   "id": "299ec63c",
   "metadata": {},
   "source": [
    "## Importanto os dados"
   ]
  },
  {
   "cell_type": "code",
   "execution_count": 2,
   "id": "ceec5192",
   "metadata": {},
   "outputs": [
    {
     "data": {
      "text/html": [
       "<div>\n",
       "<style scoped>\n",
       "    .dataframe tbody tr th:only-of-type {\n",
       "        vertical-align: middle;\n",
       "    }\n",
       "\n",
       "    .dataframe tbody tr th {\n",
       "        vertical-align: top;\n",
       "    }\n",
       "\n",
       "    .dataframe thead th {\n",
       "        text-align: right;\n",
       "    }\n",
       "</style>\n",
       "<table border=\"1\" class=\"dataframe\">\n",
       "  <thead>\n",
       "    <tr style=\"text-align: right;\">\n",
       "      <th></th>\n",
       "      <th></th>\n",
       "      <th>AT</th>\n",
       "      <th>EV</th>\n",
       "      <th>AP</th>\n",
       "      <th>RH</th>\n",
       "      <th>PE</th>\n",
       "    </tr>\n",
       "  </thead>\n",
       "  <tbody>\n",
       "    <tr>\n",
       "      <th rowspan=\"5\" valign=\"top\">train</th>\n",
       "      <th>0</th>\n",
       "      <td>29.95</td>\n",
       "      <td>73.42</td>\n",
       "      <td>1011.44</td>\n",
       "      <td>66.32</td>\n",
       "      <td>432.81</td>\n",
       "    </tr>\n",
       "    <tr>\n",
       "      <th>1</th>\n",
       "      <td>5.76</td>\n",
       "      <td>40.07</td>\n",
       "      <td>1013.22</td>\n",
       "      <td>62.99</td>\n",
       "      <td>494.67</td>\n",
       "    </tr>\n",
       "    <tr>\n",
       "      <th>2</th>\n",
       "      <td>29.44</td>\n",
       "      <td>64.33</td>\n",
       "      <td>1011.40</td>\n",
       "      <td>61.78</td>\n",
       "      <td>442.32</td>\n",
       "    </tr>\n",
       "    <tr>\n",
       "      <th>3</th>\n",
       "      <td>32.83</td>\n",
       "      <td>74.33</td>\n",
       "      <td>1011.44</td>\n",
       "      <td>50.42</td>\n",
       "      <td>427.36</td>\n",
       "    </tr>\n",
       "    <tr>\n",
       "      <th>4</th>\n",
       "      <td>16.86</td>\n",
       "      <td>39.63</td>\n",
       "      <td>1004.47</td>\n",
       "      <td>83.50</td>\n",
       "      <td>466.68</td>\n",
       "    </tr>\n",
       "    <tr>\n",
       "      <th>...</th>\n",
       "      <th>...</th>\n",
       "      <td>...</td>\n",
       "      <td>...</td>\n",
       "      <td>...</td>\n",
       "      <td>...</td>\n",
       "      <td>...</td>\n",
       "    </tr>\n",
       "    <tr>\n",
       "      <th rowspan=\"5\" valign=\"top\">test</th>\n",
       "      <th>3153</th>\n",
       "      <td>22.12</td>\n",
       "      <td>57.19</td>\n",
       "      <td>1007.56</td>\n",
       "      <td>76.50</td>\n",
       "      <td>NaN</td>\n",
       "    </tr>\n",
       "    <tr>\n",
       "      <th>3154</th>\n",
       "      <td>9.59</td>\n",
       "      <td>38.56</td>\n",
       "      <td>1017.01</td>\n",
       "      <td>60.10</td>\n",
       "      <td>NaN</td>\n",
       "    </tr>\n",
       "    <tr>\n",
       "      <th>3155</th>\n",
       "      <td>31.38</td>\n",
       "      <td>71.32</td>\n",
       "      <td>1009.17</td>\n",
       "      <td>60.42</td>\n",
       "      <td>NaN</td>\n",
       "    </tr>\n",
       "    <tr>\n",
       "      <th>3156</th>\n",
       "      <td>12.38</td>\n",
       "      <td>45.51</td>\n",
       "      <td>1016.15</td>\n",
       "      <td>81.37</td>\n",
       "      <td>NaN</td>\n",
       "    </tr>\n",
       "    <tr>\n",
       "      <th>3157</th>\n",
       "      <td>22.35</td>\n",
       "      <td>65.61</td>\n",
       "      <td>1016.27</td>\n",
       "      <td>73.93</td>\n",
       "      <td>NaN</td>\n",
       "    </tr>\n",
       "  </tbody>\n",
       "</table>\n",
       "<p>9568 rows × 5 columns</p>\n",
       "</div>"
      ],
      "text/plain": [
       "               AT     EV       AP     RH      PE\n",
       "train 0     29.95  73.42  1011.44  66.32  432.81\n",
       "      1      5.76  40.07  1013.22  62.99  494.67\n",
       "      2     29.44  64.33  1011.40  61.78  442.32\n",
       "      3     32.83  74.33  1011.44  50.42  427.36\n",
       "      4     16.86  39.63  1004.47  83.50  466.68\n",
       "...           ...    ...      ...    ...     ...\n",
       "test  3153  22.12  57.19  1007.56  76.50     NaN\n",
       "      3154   9.59  38.56  1017.01  60.10     NaN\n",
       "      3155  31.38  71.32  1009.17  60.42     NaN\n",
       "      3156  12.38  45.51  1016.15  81.37     NaN\n",
       "      3157  22.35  65.61  1016.27  73.93     NaN\n",
       "\n",
       "[9568 rows x 5 columns]"
      ]
     },
     "execution_count": 2,
     "metadata": {},
     "output_type": "execute_result"
    }
   ],
   "source": [
    "energy_train_data = pd.read_csv(join('data','Training_set_ccpp.csv'))\n",
    "energy_test_data = pd.read_csv(join('data', 'Testing_set_ccpp.csv'))\n",
    "energy_data = pd.concat([energy_train_data, energy_test_data], keys=['train', 'test'])\n",
    "\n",
    "energy_data"
   ]
  },
  {
   "cell_type": "markdown",
   "id": "4b5093a4",
   "metadata": {},
   "source": [
    "# Desenvolvimento"
   ]
  },
  {
   "cell_type": "markdown",
   "id": "db2e536c",
   "metadata": {},
   "source": [
    "## EDA (Exploratory Data Analysis) dos dados"
   ]
  },
  {
   "cell_type": "markdown",
   "id": "a39f19c5",
   "metadata": {},
   "source": [
    "Aqui os dados serão analisados de forma geral, ajudando a compreender melhor seus padrões e comportamento, além de quais tratamentos e/ou criações de novas colunas podem aparecer na etapa de pré-processamento."
   ]
  },
  {
   "cell_type": "markdown",
   "id": "8af0d4b6",
   "metadata": {},
   "source": [
    "### Sobre"
   ]
  },
  {
   "cell_type": "markdown",
   "id": "77d0a057",
   "metadata": {},
   "source": [
    "Como implícito no nome dos dois datasets, eles foram divididos em dataset de treino (energy_train_dataset) e dataset de test(energy_test_dataset). Ao analisarmos ambos os datasets observamos que possuímos as seguintes colunas a seguir:"
   ]
  },
  {
   "cell_type": "markdown",
   "id": "faaec04b",
   "metadata": {},
   "source": [
    "Consultando o dicionário de dados chegamos temos a explicação do que se trata as inicias de cada variável bem como a unidade em que estão sendo medidas, segundo a tabela a seguir:"
   ]
  },
  {
   "cell_type": "markdown",
   "id": "e5d1f66d",
   "metadata": {},
   "source": [
    "| Coluna    | Unidade   | Descrição |\n",
    "|--------   |---------  |-----------|\n",
    "| `AT`      | *°C*      | Temperatura ambiente\n",
    "| `EV`      | *Hg*      | Vácuo de Exaustão\n",
    "| `AP`      | *mbar*    | Pressão ambiente\n",
    "| `RH`      | *%*       | Humidade Relativa\n",
    "| `PE`      | *MW*      | Geração de energia elétrica"
   ]
  },
  {
   "cell_type": "markdown",
   "id": "64fb8334",
   "metadata": {},
   "source": [
    "Conforme explicitamente recomendado pela fonte de dados iremos utilizar apenas o dataset de treino (train) para realizar o treino do modelo. Logo todas as análises e tratamento a seguir serão realizadas apenas neste dataset."
   ]
  },
  {
   "cell_type": "markdown",
   "id": "6e931311",
   "metadata": {},
   "source": [
    "### Informações gerais do dataset"
   ]
  },
  {
   "cell_type": "code",
   "execution_count": 3,
   "id": "aadafaf3",
   "metadata": {},
   "outputs": [
    {
     "name": "stdout",
     "output_type": "stream",
     "text": [
      "Train Shape: (6410, 5)\n",
      "Test Shape: (3158, 4)\n"
     ]
    }
   ],
   "source": [
    "print(f'''Train Shape: {energy_train_data.shape}\n",
    "Test Shape: {energy_test_data.shape}''')"
   ]
  },
  {
   "cell_type": "markdown",
   "id": "c7315e03",
   "metadata": {},
   "source": [
    "A tabela de teste não possui a coluna **PE**, já que é nosso target.\\\n",
    "Todos os dados são do tipo float - mas contém medidas/faixas diferentes"
   ]
  },
  {
   "cell_type": "code",
   "execution_count": 4,
   "id": "ac1dc49e",
   "metadata": {},
   "outputs": [
    {
     "name": "stdout",
     "output_type": "stream",
     "text": [
      "<class 'pandas.core.frame.DataFrame'>\n",
      "MultiIndex: 9568 entries, ('train', np.int64(0)) to ('test', np.int64(3157))\n",
      "Data columns (total 5 columns):\n",
      " #   Column  Non-Null Count  Dtype  \n",
      "---  ------  --------------  -----  \n",
      " 0   AT      9568 non-null   float64\n",
      " 1   EV      9568 non-null   float64\n",
      " 2   AP      9568 non-null   float64\n",
      " 3   RH      9568 non-null   float64\n",
      " 4   PE      6410 non-null   float64\n",
      "dtypes: float64(5)\n",
      "memory usage: 710.1+ KB\n"
     ]
    }
   ],
   "source": [
    "energy_data.info()"
   ]
  },
  {
   "cell_type": "markdown",
   "id": "6c2fb97b",
   "metadata": {},
   "source": [
    "Também não temos valores nulos no dataset."
   ]
  },
  {
   "cell_type": "code",
   "execution_count": 5,
   "id": "ff95f879",
   "metadata": {},
   "outputs": [
    {
     "data": {
      "text/plain": [
       "AT    0\n",
       "EV    0\n",
       "AP    0\n",
       "RH    0\n",
       "PE    0\n",
       "dtype: int64"
      ]
     },
     "execution_count": 5,
     "metadata": {},
     "output_type": "execute_result"
    }
   ],
   "source": [
    "energy_train_data.isna().sum()"
   ]
  },
  {
   "cell_type": "markdown",
   "id": "f294eb48",
   "metadata": {},
   "source": [
    "Temos uma pequena quantidade de dados duplicados tanto no conjunto de treino quanto no de teste. Logo iremos removê-los para que não influenciem no nosso modelo."
   ]
  },
  {
   "cell_type": "code",
   "execution_count": 6,
   "id": "65071322",
   "metadata": {},
   "outputs": [
    {
     "data": {
      "text/plain": [
       "18"
      ]
     },
     "execution_count": 6,
     "metadata": {},
     "output_type": "execute_result"
    }
   ],
   "source": [
    "len(energy_data[energy_data.duplicated()])"
   ]
  },
  {
   "cell_type": "code",
   "execution_count": 7,
   "id": "8b9b381b",
   "metadata": {},
   "outputs": [
    {
     "data": {
      "text/plain": [
       "14"
      ]
     },
     "execution_count": 7,
     "metadata": {},
     "output_type": "execute_result"
    }
   ],
   "source": [
    "len(energy_data.loc['train'][energy_data.loc['train'].duplicated()])"
   ]
  },
  {
   "cell_type": "code",
   "execution_count": 8,
   "id": "69cd30ca",
   "metadata": {},
   "outputs": [
    {
     "data": {
      "text/plain": [
       "4"
      ]
     },
     "execution_count": 8,
     "metadata": {},
     "output_type": "execute_result"
    }
   ],
   "source": [
    "len(energy_data.loc['test'][energy_data.loc['test'].duplicated()])"
   ]
  },
  {
   "cell_type": "markdown",
   "id": "062e41fd",
   "metadata": {},
   "source": [
    "Além disso, não é falado exatamente **como** foi feita a divisão entre treino e teste, por conta disso, decidimos verificar se todos os conjuntos do dataset de teste foram retirados do dataset de treino, verificando se todos os dados entre eles são duplicados"
   ]
  },
  {
   "cell_type": "code",
   "execution_count": 9,
   "id": "1cf74b3f",
   "metadata": {},
   "outputs": [
    {
     "data": {
      "text/plain": [
       "41"
      ]
     },
     "execution_count": 9,
     "metadata": {},
     "output_type": "execute_result"
    }
   ],
   "source": [
    "len(energy_data.drop(columns='PE')[energy_data.drop(columns='PE').duplicated()])"
   ]
  },
  {
   "cell_type": "markdown",
   "id": "d44e9970",
   "metadata": {},
   "source": [
    "Apenas 41 valores são duplicados, isso significa que os datasets foram separados corretamente e podemos trabalhar com eles de forma separada."
   ]
  },
  {
   "cell_type": "code",
   "execution_count": 10,
   "id": "a5c550d2",
   "metadata": {},
   "outputs": [
    {
     "data": {
      "text/html": [
       "<div>\n",
       "<style scoped>\n",
       "    .dataframe tbody tr th:only-of-type {\n",
       "        vertical-align: middle;\n",
       "    }\n",
       "\n",
       "    .dataframe tbody tr th {\n",
       "        vertical-align: top;\n",
       "    }\n",
       "\n",
       "    .dataframe thead th {\n",
       "        text-align: right;\n",
       "    }\n",
       "</style>\n",
       "<table border=\"1\" class=\"dataframe\">\n",
       "  <thead>\n",
       "    <tr style=\"text-align: right;\">\n",
       "      <th></th>\n",
       "      <th></th>\n",
       "      <th>AT</th>\n",
       "      <th>EV</th>\n",
       "      <th>AP</th>\n",
       "      <th>RH</th>\n",
       "      <th>PE</th>\n",
       "    </tr>\n",
       "  </thead>\n",
       "  <tbody>\n",
       "    <tr>\n",
       "      <th rowspan=\"5\" valign=\"top\">train</th>\n",
       "      <th>0</th>\n",
       "      <td>29.95</td>\n",
       "      <td>73.42</td>\n",
       "      <td>1011.44</td>\n",
       "      <td>66.32</td>\n",
       "      <td>432.81</td>\n",
       "    </tr>\n",
       "    <tr>\n",
       "      <th>1</th>\n",
       "      <td>5.76</td>\n",
       "      <td>40.07</td>\n",
       "      <td>1013.22</td>\n",
       "      <td>62.99</td>\n",
       "      <td>494.67</td>\n",
       "    </tr>\n",
       "    <tr>\n",
       "      <th>2</th>\n",
       "      <td>29.44</td>\n",
       "      <td>64.33</td>\n",
       "      <td>1011.40</td>\n",
       "      <td>61.78</td>\n",
       "      <td>442.32</td>\n",
       "    </tr>\n",
       "    <tr>\n",
       "      <th>3</th>\n",
       "      <td>32.83</td>\n",
       "      <td>74.33</td>\n",
       "      <td>1011.44</td>\n",
       "      <td>50.42</td>\n",
       "      <td>427.36</td>\n",
       "    </tr>\n",
       "    <tr>\n",
       "      <th>4</th>\n",
       "      <td>16.86</td>\n",
       "      <td>39.63</td>\n",
       "      <td>1004.47</td>\n",
       "      <td>83.50</td>\n",
       "      <td>466.68</td>\n",
       "    </tr>\n",
       "    <tr>\n",
       "      <th>...</th>\n",
       "      <th>...</th>\n",
       "      <td>...</td>\n",
       "      <td>...</td>\n",
       "      <td>...</td>\n",
       "      <td>...</td>\n",
       "      <td>...</td>\n",
       "    </tr>\n",
       "    <tr>\n",
       "      <th rowspan=\"5\" valign=\"top\">test</th>\n",
       "      <th>3153</th>\n",
       "      <td>22.12</td>\n",
       "      <td>57.19</td>\n",
       "      <td>1007.56</td>\n",
       "      <td>76.50</td>\n",
       "      <td>NaN</td>\n",
       "    </tr>\n",
       "    <tr>\n",
       "      <th>3154</th>\n",
       "      <td>9.59</td>\n",
       "      <td>38.56</td>\n",
       "      <td>1017.01</td>\n",
       "      <td>60.10</td>\n",
       "      <td>NaN</td>\n",
       "    </tr>\n",
       "    <tr>\n",
       "      <th>3155</th>\n",
       "      <td>31.38</td>\n",
       "      <td>71.32</td>\n",
       "      <td>1009.17</td>\n",
       "      <td>60.42</td>\n",
       "      <td>NaN</td>\n",
       "    </tr>\n",
       "    <tr>\n",
       "      <th>3156</th>\n",
       "      <td>12.38</td>\n",
       "      <td>45.51</td>\n",
       "      <td>1016.15</td>\n",
       "      <td>81.37</td>\n",
       "      <td>NaN</td>\n",
       "    </tr>\n",
       "    <tr>\n",
       "      <th>3157</th>\n",
       "      <td>22.35</td>\n",
       "      <td>65.61</td>\n",
       "      <td>1016.27</td>\n",
       "      <td>73.93</td>\n",
       "      <td>NaN</td>\n",
       "    </tr>\n",
       "  </tbody>\n",
       "</table>\n",
       "<p>9550 rows × 5 columns</p>\n",
       "</div>"
      ],
      "text/plain": [
       "               AT     EV       AP     RH      PE\n",
       "train 0     29.95  73.42  1011.44  66.32  432.81\n",
       "      1      5.76  40.07  1013.22  62.99  494.67\n",
       "      2     29.44  64.33  1011.40  61.78  442.32\n",
       "      3     32.83  74.33  1011.44  50.42  427.36\n",
       "      4     16.86  39.63  1004.47  83.50  466.68\n",
       "...           ...    ...      ...    ...     ...\n",
       "test  3153  22.12  57.19  1007.56  76.50     NaN\n",
       "      3154   9.59  38.56  1017.01  60.10     NaN\n",
       "      3155  31.38  71.32  1009.17  60.42     NaN\n",
       "      3156  12.38  45.51  1016.15  81.37     NaN\n",
       "      3157  22.35  65.61  1016.27  73.93     NaN\n",
       "\n",
       "[9550 rows x 5 columns]"
      ]
     },
     "execution_count": 10,
     "metadata": {},
     "output_type": "execute_result"
    }
   ],
   "source": [
    "energy_data = energy_data.drop_duplicates()\n",
    "energy_data"
   ]
  },
  {
   "cell_type": "code",
   "execution_count": 11,
   "id": "47881e8d",
   "metadata": {},
   "outputs": [
    {
     "data": {
      "text/plain": [
       "0"
      ]
     },
     "execution_count": 11,
     "metadata": {},
     "output_type": "execute_result"
    }
   ],
   "source": [
    "len(energy_data[energy_data.duplicated()])"
   ]
  },
  {
   "cell_type": "markdown",
   "id": "621269da",
   "metadata": {},
   "source": [
    "Verificando o comportamento dos dados abaixo, percebemos que precisamos tomar cuidado com alguns pontos:\n",
    "\n",
    "- A diferença entre cada coluna é alta, principalmente quando olhamos para `AP` e `PE` - uma normalização ou padronização dos dados é necessária\n",
    "- Não há valores '0' nos mínimos - algumas bases gostam de incluir o valor 0 para representar algo vazio/nulo\n",
    "- O desvio padrão não é tão alto e a média está próxima dos valores encontrados nos quartis, mesmo assim, é interessante ainda checar por algum outlier"
   ]
  },
  {
   "cell_type": "code",
   "execution_count": 12,
   "id": "28e5f2ad",
   "metadata": {},
   "outputs": [
    {
     "data": {
      "text/html": [
       "<div>\n",
       "<style scoped>\n",
       "    .dataframe tbody tr th:only-of-type {\n",
       "        vertical-align: middle;\n",
       "    }\n",
       "\n",
       "    .dataframe tbody tr th {\n",
       "        vertical-align: top;\n",
       "    }\n",
       "\n",
       "    .dataframe thead th {\n",
       "        text-align: right;\n",
       "    }\n",
       "</style>\n",
       "<table border=\"1\" class=\"dataframe\">\n",
       "  <thead>\n",
       "    <tr style=\"text-align: right;\">\n",
       "      <th></th>\n",
       "      <th>AT</th>\n",
       "      <th>EV</th>\n",
       "      <th>AP</th>\n",
       "      <th>RH</th>\n",
       "      <th>PE</th>\n",
       "    </tr>\n",
       "  </thead>\n",
       "  <tbody>\n",
       "    <tr>\n",
       "      <th>count</th>\n",
       "      <td>6396.000000</td>\n",
       "      <td>6396.000000</td>\n",
       "      <td>6396.000000</td>\n",
       "      <td>6396.000000</td>\n",
       "      <td>6396.000000</td>\n",
       "    </tr>\n",
       "    <tr>\n",
       "      <th>mean</th>\n",
       "      <td>19.655775</td>\n",
       "      <td>54.289472</td>\n",
       "      <td>1013.218404</td>\n",
       "      <td>73.318247</td>\n",
       "      <td>454.350688</td>\n",
       "    </tr>\n",
       "    <tr>\n",
       "      <th>std</th>\n",
       "      <td>7.428144</td>\n",
       "      <td>12.675436</td>\n",
       "      <td>5.933810</td>\n",
       "      <td>14.684819</td>\n",
       "      <td>17.040970</td>\n",
       "    </tr>\n",
       "    <tr>\n",
       "      <th>min</th>\n",
       "      <td>1.810000</td>\n",
       "      <td>25.360000</td>\n",
       "      <td>992.890000</td>\n",
       "      <td>26.300000</td>\n",
       "      <td>420.260000</td>\n",
       "    </tr>\n",
       "    <tr>\n",
       "      <th>25%</th>\n",
       "      <td>13.580000</td>\n",
       "      <td>41.760000</td>\n",
       "      <td>1009.060000</td>\n",
       "      <td>63.340000</td>\n",
       "      <td>439.830000</td>\n",
       "    </tr>\n",
       "    <tr>\n",
       "      <th>50%</th>\n",
       "      <td>20.420000</td>\n",
       "      <td>52.065000</td>\n",
       "      <td>1012.945000</td>\n",
       "      <td>74.955000</td>\n",
       "      <td>451.440000</td>\n",
       "    </tr>\n",
       "    <tr>\n",
       "      <th>75%</th>\n",
       "      <td>25.720000</td>\n",
       "      <td>66.517500</td>\n",
       "      <td>1017.220000</td>\n",
       "      <td>84.902500</td>\n",
       "      <td>468.240000</td>\n",
       "    </tr>\n",
       "    <tr>\n",
       "      <th>max</th>\n",
       "      <td>35.560000</td>\n",
       "      <td>81.560000</td>\n",
       "      <td>1033.300000</td>\n",
       "      <td>100.160000</td>\n",
       "      <td>495.760000</td>\n",
       "    </tr>\n",
       "  </tbody>\n",
       "</table>\n",
       "</div>"
      ],
      "text/plain": [
       "                AT           EV           AP           RH           PE\n",
       "count  6396.000000  6396.000000  6396.000000  6396.000000  6396.000000\n",
       "mean     19.655775    54.289472  1013.218404    73.318247   454.350688\n",
       "std       7.428144    12.675436     5.933810    14.684819    17.040970\n",
       "min       1.810000    25.360000   992.890000    26.300000   420.260000\n",
       "25%      13.580000    41.760000  1009.060000    63.340000   439.830000\n",
       "50%      20.420000    52.065000  1012.945000    74.955000   451.440000\n",
       "75%      25.720000    66.517500  1017.220000    84.902500   468.240000\n",
       "max      35.560000    81.560000  1033.300000   100.160000   495.760000"
      ]
     },
     "metadata": {},
     "output_type": "display_data"
    },
    {
     "data": {
      "text/html": [
       "<div>\n",
       "<style scoped>\n",
       "    .dataframe tbody tr th:only-of-type {\n",
       "        vertical-align: middle;\n",
       "    }\n",
       "\n",
       "    .dataframe tbody tr th {\n",
       "        vertical-align: top;\n",
       "    }\n",
       "\n",
       "    .dataframe thead th {\n",
       "        text-align: right;\n",
       "    }\n",
       "</style>\n",
       "<table border=\"1\" class=\"dataframe\">\n",
       "  <thead>\n",
       "    <tr style=\"text-align: right;\">\n",
       "      <th></th>\n",
       "      <th>AT</th>\n",
       "      <th>EV</th>\n",
       "      <th>AP</th>\n",
       "      <th>RH</th>\n",
       "      <th>PE</th>\n",
       "    </tr>\n",
       "  </thead>\n",
       "  <tbody>\n",
       "    <tr>\n",
       "      <th>count</th>\n",
       "      <td>3154.000000</td>\n",
       "      <td>3154.000000</td>\n",
       "      <td>3154.000000</td>\n",
       "      <td>3154.000000</td>\n",
       "      <td>0.0</td>\n",
       "    </tr>\n",
       "    <tr>\n",
       "      <th>mean</th>\n",
       "      <td>19.650682</td>\n",
       "      <td>54.314892</td>\n",
       "      <td>1013.315425</td>\n",
       "      <td>73.284902</td>\n",
       "      <td>NaN</td>\n",
       "    </tr>\n",
       "    <tr>\n",
       "      <th>std</th>\n",
       "      <td>7.489298</td>\n",
       "      <td>12.748654</td>\n",
       "      <td>5.952444</td>\n",
       "      <td>14.449347</td>\n",
       "      <td>NaN</td>\n",
       "    </tr>\n",
       "    <tr>\n",
       "      <th>min</th>\n",
       "      <td>2.340000</td>\n",
       "      <td>25.360000</td>\n",
       "      <td>993.110000</td>\n",
       "      <td>25.560000</td>\n",
       "      <td>NaN</td>\n",
       "    </tr>\n",
       "    <tr>\n",
       "      <th>25%</th>\n",
       "      <td>13.412500</td>\n",
       "      <td>41.670000</td>\n",
       "      <td>1009.170000</td>\n",
       "      <td>63.247500</td>\n",
       "      <td>NaN</td>\n",
       "    </tr>\n",
       "    <tr>\n",
       "      <th>50%</th>\n",
       "      <td>20.250000</td>\n",
       "      <td>52.300000</td>\n",
       "      <td>1012.915000</td>\n",
       "      <td>74.975000</td>\n",
       "      <td>NaN</td>\n",
       "    </tr>\n",
       "    <tr>\n",
       "      <th>75%</th>\n",
       "      <td>25.710000</td>\n",
       "      <td>66.540000</td>\n",
       "      <td>1017.240000</td>\n",
       "      <td>84.545000</td>\n",
       "      <td>NaN</td>\n",
       "    </tr>\n",
       "    <tr>\n",
       "      <th>max</th>\n",
       "      <td>37.110000</td>\n",
       "      <td>79.740000</td>\n",
       "      <td>1033.250000</td>\n",
       "      <td>100.150000</td>\n",
       "      <td>NaN</td>\n",
       "    </tr>\n",
       "  </tbody>\n",
       "</table>\n",
       "</div>"
      ],
      "text/plain": [
       "                AT           EV           AP           RH   PE\n",
       "count  3154.000000  3154.000000  3154.000000  3154.000000  0.0\n",
       "mean     19.650682    54.314892  1013.315425    73.284902  NaN\n",
       "std       7.489298    12.748654     5.952444    14.449347  NaN\n",
       "min       2.340000    25.360000   993.110000    25.560000  NaN\n",
       "25%      13.412500    41.670000  1009.170000    63.247500  NaN\n",
       "50%      20.250000    52.300000  1012.915000    74.975000  NaN\n",
       "75%      25.710000    66.540000  1017.240000    84.545000  NaN\n",
       "max      37.110000    79.740000  1033.250000   100.150000  NaN"
      ]
     },
     "metadata": {},
     "output_type": "display_data"
    }
   ],
   "source": [
    "display(energy_data.loc['train'].describe())\n",
    "display(energy_data.loc['test'].describe())"
   ]
  },
  {
   "cell_type": "markdown",
   "id": "8948cc0d",
   "metadata": {},
   "source": [
    "#### Análises gráficas"
   ]
  },
  {
   "cell_type": "markdown",
   "id": "b66fb537",
   "metadata": {},
   "source": [
    "Verificando a distribuição das variáveis"
   ]
  },
  {
   "cell_type": "code",
   "execution_count": 13,
   "id": "b4937aca",
   "metadata": {},
   "outputs": [
    {
     "data": {
      "image/png": "[encoded data removed]",
      "text/plain": [
       "<Figure size 1500x1000 with 5 Axes>"
      ]
     },
     "metadata": {},
     "output_type": "display_data"
    }
   ],
   "source": [
    "cols = 3\n",
    "rows = 2\n",
    "\n",
    "fig, axes = plt.subplots(nrows=rows, ncols=cols, figsize=(15, 10))\n",
    "fig.suptitle(\"Distribuição das Variáveis\", fontsize=16)\n",
    "\n",
    "for i, col in enumerate(energy_data.loc[\"train\"].columns):\n",
    "    ax = axes[i // cols, i % cols]\n",
    "    sns.histplot(energy_data.loc[\"train\", col], kde=True, ax=ax)\n",
    "    ax.set_title(col)\n",
    "    \n",
    "for j in range(i + 1, rows * cols):\n",
    "    fig.delaxes(axes[j // cols, j % cols])\n",
    "\n",
    "plt.tight_layout(rect=[0, 0, 1, 0.95])\n",
    "plt.show()"
   ]
  },
  {
   "cell_type": "markdown",
   "id": "75ebd3b6",
   "metadata": {},
   "source": [
    "Verificando se há outliers com boxplots"
   ]
  },
  {
   "cell_type": "code",
   "execution_count": 14,
   "id": "77c577a6",
   "metadata": {},
   "outputs": [
    {
     "data": {
      "image/png": "[encoded data removed]",
      "text/plain": [
       "<Figure size 1500x1000 with 5 Axes>"
      ]
     },
     "metadata": {},
     "output_type": "display_data"
    }
   ],
   "source": [
    "fig, axes = plt.subplots(nrows=rows, ncols=cols, figsize=(15, 10))\n",
    "fig.suptitle(\"Distribuição das Variáveis\", fontsize=16)\n",
    "\n",
    "for i, col in enumerate(energy_data.loc[\"train\"].columns):\n",
    "    ax = axes[i // cols, i % cols]\n",
    "    sns.boxplot(energy_data.loc[\"train\", col], ax=ax)\n",
    "    ax.set_title(col)\n",
    "    \n",
    "for j in range(i + 1, rows * cols):\n",
    "    fig.delaxes(axes[j // cols, j % cols])\n",
    "\n",
    "plt.tight_layout(rect=[0, 0, 1, 0.95])\n",
    "plt.show()"
   ]
  },
  {
   "cell_type": "markdown",
   "id": "9cee2c03",
   "metadata": {},
   "source": [
    "Apenas AP e RH foram marcados com outliers. Para o nosso **modelo supervisionado** a remoção de outliers é algo que ajudaria o modelo, mas para o **não supervisionado**, poderia acabar prejudicando, já que o objetivo seria identificar anomalias."
   ]
  },
  {
   "cell_type": "markdown",
   "id": "32ca7340",
   "metadata": {},
   "source": [
    "---"
   ]
  },
  {
   "cell_type": "markdown",
   "id": "49de29e5",
   "metadata": {},
   "source": [
    "Como nossos dados são contínuos, a correlação mais apropriada é a de *Pearson*\n",
    "\n",
    "Avaliando o heatmap abaixo, percebemos que há uma fortíssima correlação negativa entre PE e AT (-0.948) e também entre PE e EV (-0.869), indicando que quanto menor a temperatura ambiente e quanto mentor o vácuo de exaustão maior será a geração de energia. Também vemos que há uma baixa correlação com RH (0.394)\n",
    "\n",
    "Mediante estas análises, podemos levar em consideração que seguir com todas as variáveis, exceto **RH**, podem nos ajudar no treinamento do nosso modelo."
   ]
  },
  {
   "cell_type": "code",
   "execution_count": 15,
   "id": "2422f81d",
   "metadata": {},
   "outputs": [
    {
     "data": {
      "image/png": "[encoded data removed]",
      "text/plain": [
       "<Figure size 1200x800 with 2 Axes>"
      ]
     },
     "metadata": {},
     "output_type": "display_data"
    }
   ],
   "source": [
    "correlation_matrix = energy_data.loc['train'].corr(method='pearson')\n",
    "\n",
    "plt.figure(figsize=(12, 8))\n",
    "sns.heatmap(correlation_matrix, annot=True, cmap='coolwarm', fmt=\".3f\", linewidths=0.5, cbar_kws={\"shrink\": 0.8})\n",
    "plt.title(\"Matriz de Correlação das Variáveis - Pearson\")\n",
    "plt.show()"
   ]
  },
  {
   "cell_type": "code",
   "execution_count": 49,
   "id": "bb0664a8",
   "metadata": {},
   "outputs": [
    {
     "data": {
      "image/png": "[encoded data removed]",
      "text/plain": [
       "<Figure size 1000x600 with 1 Axes>"
      ]
     },
     "metadata": {},
     "output_type": "display_data"
    }
   ],
   "source": [
    "plt.figure(figsize=(10, 6))\n",
    "\n",
    "train_sorted = energy_data.loc['train'].sort_values(by='AT')\n",
    "\n",
    "plt.plot(train_sorted['AT'], train_sorted['PE'], label='PE', color='blue')\n",
    "plt.plot(train_sorted['AT'], train_sorted['AT'], label='AT', color='red')\n",
    "\n",
    "plt.title('Correlação entre AT e PE', fontsize=14)\n",
    "plt.xlabel('AT', fontsize=12)\n",
    "plt.ylabel('PE', fontsize=12)\n",
    "\n",
    "plt.legend()\n",
    "plt.grid(True)\n",
    "plt.show()"
   ]
  },
  {
   "cell_type": "markdown",
   "id": "cc51ccf5",
   "metadata": {},
   "source": [
    "*Obs.: Acima, apenas verificamos a correlação e outros gráficos no conjunto de treino, justamente para evitar o conceito de 'vazamento de dados' - neste contexto, seria como criar um modelo que fosse servir perfeitamente para nosso cenário de testes.*"
   ]
  },
  {
   "cell_type": "markdown",
   "id": "d225dfca",
   "metadata": {},
   "source": [
    "### Remoção de outliers e escolha de features"
   ]
  },
  {
   "cell_type": "markdown",
   "id": "e827fb01",
   "metadata": {},
   "source": [
    "Como já falado, para nosso modelo não supervisionado, acaba não fazendo sentido excluir variáveis ou outliers, portanto, faremos uma **cópia** do dataset atual (que já removeu seus dados duplicados) para, futuramente, ser utilizada para o outro modelo."
   ]
  },
  {
   "cell_type": "code",
   "execution_count": 16,
   "id": "ac4cb0d4",
   "metadata": {},
   "outputs": [
    {
     "name": "stdout",
     "output_type": "stream",
     "text": [
      "(9550, 5)\n",
      "(9550, 5)\n"
     ]
    }
   ],
   "source": [
    "un_energy_data = energy_data.copy()\n",
    "print(un_energy_data.shape)\n",
    "print(energy_data.shape)"
   ]
  },
  {
   "cell_type": "markdown",
   "id": "f0f2be46",
   "metadata": {},
   "source": [
    "Conforme visto nos gráficos de boxplot, apenas `RH` e `AP` possuem outliers e, como não vamos utilizar `RH`, podemos aplicar a remoção apenas em `AP`."
   ]
  },
  {
   "cell_type": "code",
   "execution_count": 17,
   "id": "f01a7be0",
   "metadata": {},
   "outputs": [
    {
     "data": {
      "text/html": [
       "<div>\n",
       "<style scoped>\n",
       "    .dataframe tbody tr th:only-of-type {\n",
       "        vertical-align: middle;\n",
       "    }\n",
       "\n",
       "    .dataframe tbody tr th {\n",
       "        vertical-align: top;\n",
       "    }\n",
       "\n",
       "    .dataframe thead th {\n",
       "        text-align: right;\n",
       "    }\n",
       "</style>\n",
       "<table border=\"1\" class=\"dataframe\">\n",
       "  <thead>\n",
       "    <tr style=\"text-align: right;\">\n",
       "      <th></th>\n",
       "      <th></th>\n",
       "      <th>AT</th>\n",
       "      <th>EV</th>\n",
       "      <th>AP</th>\n",
       "      <th>PE</th>\n",
       "    </tr>\n",
       "  </thead>\n",
       "  <tbody>\n",
       "    <tr>\n",
       "      <th rowspan=\"5\" valign=\"top\">train</th>\n",
       "      <th>0</th>\n",
       "      <td>29.95</td>\n",
       "      <td>73.42</td>\n",
       "      <td>1011.44</td>\n",
       "      <td>432.81</td>\n",
       "    </tr>\n",
       "    <tr>\n",
       "      <th>1</th>\n",
       "      <td>5.76</td>\n",
       "      <td>40.07</td>\n",
       "      <td>1013.22</td>\n",
       "      <td>494.67</td>\n",
       "    </tr>\n",
       "    <tr>\n",
       "      <th>2</th>\n",
       "      <td>29.44</td>\n",
       "      <td>64.33</td>\n",
       "      <td>1011.40</td>\n",
       "      <td>442.32</td>\n",
       "    </tr>\n",
       "    <tr>\n",
       "      <th>3</th>\n",
       "      <td>32.83</td>\n",
       "      <td>74.33</td>\n",
       "      <td>1011.44</td>\n",
       "      <td>427.36</td>\n",
       "    </tr>\n",
       "    <tr>\n",
       "      <th>4</th>\n",
       "      <td>16.86</td>\n",
       "      <td>39.63</td>\n",
       "      <td>1004.47</td>\n",
       "      <td>466.68</td>\n",
       "    </tr>\n",
       "    <tr>\n",
       "      <th>...</th>\n",
       "      <th>...</th>\n",
       "      <td>...</td>\n",
       "      <td>...</td>\n",
       "      <td>...</td>\n",
       "      <td>...</td>\n",
       "    </tr>\n",
       "    <tr>\n",
       "      <th rowspan=\"5\" valign=\"top\">test</th>\n",
       "      <th>3153</th>\n",
       "      <td>22.12</td>\n",
       "      <td>57.19</td>\n",
       "      <td>1007.56</td>\n",
       "      <td>NaN</td>\n",
       "    </tr>\n",
       "    <tr>\n",
       "      <th>3154</th>\n",
       "      <td>9.59</td>\n",
       "      <td>38.56</td>\n",
       "      <td>1017.01</td>\n",
       "      <td>NaN</td>\n",
       "    </tr>\n",
       "    <tr>\n",
       "      <th>3155</th>\n",
       "      <td>31.38</td>\n",
       "      <td>71.32</td>\n",
       "      <td>1009.17</td>\n",
       "      <td>NaN</td>\n",
       "    </tr>\n",
       "    <tr>\n",
       "      <th>3156</th>\n",
       "      <td>12.38</td>\n",
       "      <td>45.51</td>\n",
       "      <td>1016.15</td>\n",
       "      <td>NaN</td>\n",
       "    </tr>\n",
       "    <tr>\n",
       "      <th>3157</th>\n",
       "      <td>22.35</td>\n",
       "      <td>65.61</td>\n",
       "      <td>1016.27</td>\n",
       "      <td>NaN</td>\n",
       "    </tr>\n",
       "  </tbody>\n",
       "</table>\n",
       "<p>9550 rows × 4 columns</p>\n",
       "</div>"
      ],
      "text/plain": [
       "               AT     EV       AP      PE\n",
       "train 0     29.95  73.42  1011.44  432.81\n",
       "      1      5.76  40.07  1013.22  494.67\n",
       "      2     29.44  64.33  1011.40  442.32\n",
       "      3     32.83  74.33  1011.44  427.36\n",
       "      4     16.86  39.63  1004.47  466.68\n",
       "...           ...    ...      ...     ...\n",
       "test  3153  22.12  57.19  1007.56     NaN\n",
       "      3154   9.59  38.56  1017.01     NaN\n",
       "      3155  31.38  71.32  1009.17     NaN\n",
       "      3156  12.38  45.51  1016.15     NaN\n",
       "      3157  22.35  65.61  1016.27     NaN\n",
       "\n",
       "[9550 rows x 4 columns]"
      ]
     },
     "execution_count": 17,
     "metadata": {},
     "output_type": "execute_result"
    }
   ],
   "source": [
    "features_to_keep=['AT', 'EV', 'AP', 'PE']\n",
    "\n",
    "energy_data = energy_data[features_to_keep]\n",
    "energy_data"
   ]
  },
  {
   "cell_type": "code",
   "execution_count": 18,
   "id": "59417540",
   "metadata": {},
   "outputs": [
    {
     "name": "stdout",
     "output_type": "stream",
     "text": [
      "Shape com outliers: (6396, 4)\n",
      "Shape sem outliers: (6341, 4)\n"
     ]
    },
    {
     "data": {
      "text/html": [
       "<div>\n",
       "<style scoped>\n",
       "    .dataframe tbody tr th:only-of-type {\n",
       "        vertical-align: middle;\n",
       "    }\n",
       "\n",
       "    .dataframe tbody tr th {\n",
       "        vertical-align: top;\n",
       "    }\n",
       "\n",
       "    .dataframe thead th {\n",
       "        text-align: right;\n",
       "    }\n",
       "</style>\n",
       "<table border=\"1\" class=\"dataframe\">\n",
       "  <thead>\n",
       "    <tr style=\"text-align: right;\">\n",
       "      <th></th>\n",
       "      <th>AT</th>\n",
       "      <th>EV</th>\n",
       "      <th>AP</th>\n",
       "      <th>PE</th>\n",
       "    </tr>\n",
       "  </thead>\n",
       "  <tbody>\n",
       "    <tr>\n",
       "      <th>0</th>\n",
       "      <td>29.95</td>\n",
       "      <td>73.42</td>\n",
       "      <td>1011.44</td>\n",
       "      <td>432.81</td>\n",
       "    </tr>\n",
       "    <tr>\n",
       "      <th>1</th>\n",
       "      <td>5.76</td>\n",
       "      <td>40.07</td>\n",
       "      <td>1013.22</td>\n",
       "      <td>494.67</td>\n",
       "    </tr>\n",
       "    <tr>\n",
       "      <th>2</th>\n",
       "      <td>29.44</td>\n",
       "      <td>64.33</td>\n",
       "      <td>1011.40</td>\n",
       "      <td>442.32</td>\n",
       "    </tr>\n",
       "    <tr>\n",
       "      <th>3</th>\n",
       "      <td>32.83</td>\n",
       "      <td>74.33</td>\n",
       "      <td>1011.44</td>\n",
       "      <td>427.36</td>\n",
       "    </tr>\n",
       "    <tr>\n",
       "      <th>4</th>\n",
       "      <td>16.86</td>\n",
       "      <td>39.63</td>\n",
       "      <td>1004.47</td>\n",
       "      <td>466.68</td>\n",
       "    </tr>\n",
       "    <tr>\n",
       "      <th>...</th>\n",
       "      <td>...</td>\n",
       "      <td>...</td>\n",
       "      <td>...</td>\n",
       "      <td>...</td>\n",
       "    </tr>\n",
       "    <tr>\n",
       "      <th>6405</th>\n",
       "      <td>23.39</td>\n",
       "      <td>61.87</td>\n",
       "      <td>1010.35</td>\n",
       "      <td>444.03</td>\n",
       "    </tr>\n",
       "    <tr>\n",
       "      <th>6406</th>\n",
       "      <td>11.63</td>\n",
       "      <td>40.55</td>\n",
       "      <td>1022.89</td>\n",
       "      <td>474.67</td>\n",
       "    </tr>\n",
       "    <tr>\n",
       "      <th>6407</th>\n",
       "      <td>27.79</td>\n",
       "      <td>69.23</td>\n",
       "      <td>1012.86</td>\n",
       "      <td>435.06</td>\n",
       "    </tr>\n",
       "    <tr>\n",
       "      <th>6408</th>\n",
       "      <td>12.26</td>\n",
       "      <td>41.50</td>\n",
       "      <td>1014.87</td>\n",
       "      <td>471.13</td>\n",
       "    </tr>\n",
       "    <tr>\n",
       "      <th>6409</th>\n",
       "      <td>11.75</td>\n",
       "      <td>40.55</td>\n",
       "      <td>1018.09</td>\n",
       "      <td>472.43</td>\n",
       "    </tr>\n",
       "  </tbody>\n",
       "</table>\n",
       "<p>6341 rows × 4 columns</p>\n",
       "</div>"
      ],
      "text/plain": [
       "         AT     EV       AP      PE\n",
       "0     29.95  73.42  1011.44  432.81\n",
       "1      5.76  40.07  1013.22  494.67\n",
       "2     29.44  64.33  1011.40  442.32\n",
       "3     32.83  74.33  1011.44  427.36\n",
       "4     16.86  39.63  1004.47  466.68\n",
       "...     ...    ...      ...     ...\n",
       "6405  23.39  61.87  1010.35  444.03\n",
       "6406  11.63  40.55  1022.89  474.67\n",
       "6407  27.79  69.23  1012.86  435.06\n",
       "6408  12.26  41.50  1014.87  471.13\n",
       "6409  11.75  40.55  1018.09  472.43\n",
       "\n",
       "[6341 rows x 4 columns]"
      ]
     },
     "execution_count": 18,
     "metadata": {},
     "output_type": "execute_result"
    }
   ],
   "source": [
    "train = energy_data.loc['train']\n",
    "\n",
    "print(f\"Shape com outliers: {energy_data.loc['train'].shape}\")\n",
    "\n",
    "Q1 = train['AP'].quantile(0.25)\n",
    "Q3 = train['AP'].quantile(0.75)\n",
    "IQR = Q3 - Q1\n",
    "lower_bound = Q1 - 1.5 * IQR\n",
    "upper_bound = Q3 + 1.5 * IQR\n",
    "train = train[(train['AP'] >= lower_bound) & (train['AP'] <= upper_bound)]\n",
    "    \n",
    "print(f\"Shape sem outliers: {train.shape}\")\n",
    "train"
   ]
  },
  {
   "cell_type": "code",
   "execution_count": 19,
   "id": "cb875736",
   "metadata": {},
   "outputs": [
    {
     "data": {
      "text/html": [
       "<div>\n",
       "<style scoped>\n",
       "    .dataframe tbody tr th:only-of-type {\n",
       "        vertical-align: middle;\n",
       "    }\n",
       "\n",
       "    .dataframe tbody tr th {\n",
       "        vertical-align: top;\n",
       "    }\n",
       "\n",
       "    .dataframe thead th {\n",
       "        text-align: right;\n",
       "    }\n",
       "</style>\n",
       "<table border=\"1\" class=\"dataframe\">\n",
       "  <thead>\n",
       "    <tr style=\"text-align: right;\">\n",
       "      <th></th>\n",
       "      <th>AT</th>\n",
       "      <th>EV</th>\n",
       "      <th>AP</th>\n",
       "    </tr>\n",
       "  </thead>\n",
       "  <tbody>\n",
       "    <tr>\n",
       "      <th>0</th>\n",
       "      <td>19.64</td>\n",
       "      <td>48.06</td>\n",
       "      <td>1014.81</td>\n",
       "    </tr>\n",
       "    <tr>\n",
       "      <th>1</th>\n",
       "      <td>28.26</td>\n",
       "      <td>69.23</td>\n",
       "      <td>1013.01</td>\n",
       "    </tr>\n",
       "    <tr>\n",
       "      <th>2</th>\n",
       "      <td>27.98</td>\n",
       "      <td>67.17</td>\n",
       "      <td>1007.32</td>\n",
       "    </tr>\n",
       "    <tr>\n",
       "      <th>3</th>\n",
       "      <td>28.64</td>\n",
       "      <td>69.23</td>\n",
       "      <td>1013.11</td>\n",
       "    </tr>\n",
       "    <tr>\n",
       "      <th>4</th>\n",
       "      <td>9.34</td>\n",
       "      <td>38.08</td>\n",
       "      <td>1019.56</td>\n",
       "    </tr>\n",
       "    <tr>\n",
       "      <th>...</th>\n",
       "      <td>...</td>\n",
       "      <td>...</td>\n",
       "      <td>...</td>\n",
       "    </tr>\n",
       "    <tr>\n",
       "      <th>3153</th>\n",
       "      <td>22.12</td>\n",
       "      <td>57.19</td>\n",
       "      <td>1007.56</td>\n",
       "    </tr>\n",
       "    <tr>\n",
       "      <th>3154</th>\n",
       "      <td>9.59</td>\n",
       "      <td>38.56</td>\n",
       "      <td>1017.01</td>\n",
       "    </tr>\n",
       "    <tr>\n",
       "      <th>3155</th>\n",
       "      <td>31.38</td>\n",
       "      <td>71.32</td>\n",
       "      <td>1009.17</td>\n",
       "    </tr>\n",
       "    <tr>\n",
       "      <th>3156</th>\n",
       "      <td>12.38</td>\n",
       "      <td>45.51</td>\n",
       "      <td>1016.15</td>\n",
       "    </tr>\n",
       "    <tr>\n",
       "      <th>3157</th>\n",
       "      <td>22.35</td>\n",
       "      <td>65.61</td>\n",
       "      <td>1016.27</td>\n",
       "    </tr>\n",
       "  </tbody>\n",
       "</table>\n",
       "<p>3154 rows × 3 columns</p>\n",
       "</div>"
      ],
      "text/plain": [
       "         AT     EV       AP\n",
       "0     19.64  48.06  1014.81\n",
       "1     28.26  69.23  1013.01\n",
       "2     27.98  67.17  1007.32\n",
       "3     28.64  69.23  1013.11\n",
       "4      9.34  38.08  1019.56\n",
       "...     ...    ...      ...\n",
       "3153  22.12  57.19  1007.56\n",
       "3154   9.59  38.56  1017.01\n",
       "3155  31.38  71.32  1009.17\n",
       "3156  12.38  45.51  1016.15\n",
       "3157  22.35  65.61  1016.27\n",
       "\n",
       "[3154 rows x 3 columns]"
      ]
     },
     "execution_count": 19,
     "metadata": {},
     "output_type": "execute_result"
    }
   ],
   "source": [
    "test = energy_data.loc['test'].drop(columns='PE')\n",
    "test"
   ]
  },
  {
   "cell_type": "markdown",
   "id": "fc7e3e8a",
   "metadata": {},
   "source": [
    "Mais uma vez, para evitar vazamento de dados, vamos aplicar separadamente a normalização. Optamos por utilizar o MinMaxScaler, já que os dados não estão em distribuição normal - conforme visto nos histogramas."
   ]
  },
  {
   "cell_type": "code",
   "execution_count": 20,
   "id": "e21ef0c1",
   "metadata": {},
   "outputs": [
    {
     "data": {
      "text/plain": [
       "array([[0.83377778, 0.85516014, 0.44775661, 0.16622517],\n",
       "       [0.11703704, 0.26174377, 0.50245851, 0.98556291],\n",
       "       [0.81866667, 0.69341637, 0.44652735, 0.29218543],\n",
       "       ...,\n",
       "       [0.76977778, 0.78060498, 0.49139521, 0.19602649],\n",
       "       [0.30962963, 0.28718861, 0.55316533, 0.67377483],\n",
       "       [0.29451852, 0.2702847 , 0.65212047, 0.69099338]])"
      ]
     },
     "execution_count": 20,
     "metadata": {},
     "output_type": "execute_result"
    }
   ],
   "source": [
    "scaler = MinMaxScaler()\n",
    "train_scaled = scaler.fit_transform(train)\n",
    "train_scaled"
   ]
  },
  {
   "cell_type": "markdown",
   "id": "a9da4832",
   "metadata": {},
   "source": [
    "# Treinando e testando o modelo - Modelo Supervisionado"
   ]
  },
  {
   "cell_type": "markdown",
   "id": "09271400",
   "metadata": {},
   "source": [
    "### Separação dos dados"
   ]
  },
  {
   "cell_type": "code",
   "execution_count": 21,
   "id": "0011602c",
   "metadata": {},
   "outputs": [],
   "source": [
    "X = train.drop(columns='PE')\n",
    "y = train['PE']"
   ]
  },
  {
   "cell_type": "markdown",
   "id": "996ba477",
   "metadata": {},
   "source": [
    "Como já temos datasets de **treino** e **teste**, ao dividirmos os dados de treino com `train_test_split`, é como se estivéssemos criando um conjunto de **validação**"
   ]
  },
  {
   "cell_type": "code",
   "execution_count": 22,
   "id": "557bd84a",
   "metadata": {},
   "outputs": [],
   "source": [
    "X_train, X_val, y_train, y_val = train_test_split(X, y, test_size=0.2, random_state=42)"
   ]
  },
  {
   "cell_type": "markdown",
   "id": "66246a0b",
   "metadata": {},
   "source": [
    "## Treinando modelos"
   ]
  },
  {
   "cell_type": "markdown",
   "id": "93c552f3",
   "metadata": {},
   "source": [
    "Segundo a descrição do projeto, para modelos supervisionados, podemos apenas utilizar SVM ou modelos de Ensembles."
   ]
  },
  {
   "cell_type": "code",
   "execution_count": 23,
   "id": "0b0c0c5c",
   "metadata": {},
   "outputs": [],
   "source": [
    "def train_and_validate_model(\n",
    "    model, X_train, X_val, y_train, y_val, hyperparameters=None\n",
    "):\n",
    "    \"\"\"\n",
    "    Função para treinar e validar um modelo de regressão.\n",
    "\n",
    "    Parâmetros:\n",
    "    - model: Instância do modelo de regressão a ser treinado\n",
    "    - X_train: Dados de treino (features)\n",
    "    - X_val: Dados de validação (features)\n",
    "    - y_train: Labels de treino (target)\n",
    "    - y_val: Labels de validação (target)\n",
    "    - hyperparameters: Dicionário com os hiperparâmetros para o modelo\n",
    "\n",
    "    Retorna:\n",
    "    - score: Pontuação do modelo (erro quadrático médio)\n",
    "    \"\"\"\n",
    "\n",
    "    scaler = MinMaxScaler()\n",
    "    X_train_scaled = scaler.fit_transform(X_train)\n",
    "    X_test_scaled = scaler.transform(X_val)\n",
    "\n",
    "    if hyperparameters:\n",
    "        print(\"\\tTreinando hiperparâmetros do modelo...\")\n",
    "        grid_search = GridSearchCV(\n",
    "            estimator=model,\n",
    "            param_grid=hyperparameters,\n",
    "            cv=5,\n",
    "            scoring=\"neg_mean_squared_error\",\n",
    "            n_jobs=-1,\n",
    "        )\n",
    "        grid_search.fit(X_train_scaled, y_train)\n",
    "        best_params = grid_search.best_params_\n",
    "        print(f\"\\tMelhores parâmetros: {best_params}\")\n",
    "        model.set_params(**best_params)\n",
    "\n",
    "    model.fit(X_train_scaled, y_train)\n",
    "\n",
    "    y_pred = model.predict(X_test_scaled)\n",
    "\n",
    "    mse = mean_squared_error(y_val, y_pred)\n",
    "    mae = mean_absolute_error(y_val, y_pred)\n",
    "    rmse = np.sqrt(mse)\n",
    "    r2 = r2_score(y_val, y_pred)\n",
    "\n",
    "    scores = {\"MSE\": mse, \"MAE\": mae, \"RMSE\": rmse, \"R2\": r2}\n",
    "    \n",
    "    if hyperparameters:\n",
    "        return scores, best_params\n",
    "\n",
    "    return scores"
   ]
  },
  {
   "cell_type": "code",
   "execution_count": 24,
   "id": "4f09e7b5",
   "metadata": {},
   "outputs": [
    {
     "name": "stdout",
     "output_type": "stream",
     "text": [
      "Treinando SVR...\n",
      "Treinando RandomForestRegressor...\n",
      "Treinando GradientBoostingRegressor...\n",
      "Treinando AdaBoostRegressor...\n",
      "Treinando XGBoost...\n",
      "\n",
      "Scores dos Modelos:\n"
     ]
    },
    {
     "data": {
      "text/plain": [
       "{'SVR': {'MSE': np.float64(17.282115368177585),\n",
       "  'MAE': np.float64(3.220566255440585),\n",
       "  'RMSE': np.float64(4.157176369626093),\n",
       "  'R2': 0.9373537824828972},\n",
       " 'RandomForestRegressor': {'MSE': np.float64(12.742664166611537),\n",
       "  'MAE': np.float64(2.638795508274237),\n",
       "  'RMSE': np.float64(3.5696868443340426),\n",
       "  'R2': 0.9538089120386936},\n",
       " 'GradientBoostingRegressor': {'MSE': np.float64(14.36516751720134),\n",
       "  'MAE': np.float64(2.971845397684129),\n",
       "  'RMSE': np.float64(3.790140830787339),\n",
       "  'R2': 0.9479274735887201},\n",
       " 'AdaBoostRegressor': {'MSE': np.float64(28.976593349856614),\n",
       "  'MAE': np.float64(4.248977760610076),\n",
       "  'RMSE': np.float64(5.3829911155283),\n",
       "  'R2': 0.8949622814552954},\n",
       " 'XGBoost': {'MSE': np.float64(10.813952922461926),\n",
       "  'MAE': np.float64(2.4181111422779993),\n",
       "  'RMSE': np.float64(3.2884575293687353),\n",
       "  'R2': 0.9608003283991676}}"
      ]
     },
     "execution_count": 24,
     "metadata": {},
     "output_type": "execute_result"
    }
   ],
   "source": [
    "models = {\n",
    "    'SVR': SVR(), # Support Vector Regressor\n",
    "    'RandomForestRegressor': RandomForestRegressor(),\n",
    "    'GradientBoostingRegressor': GradientBoostingRegressor(),\n",
    "    'AdaBoostRegressor': AdaBoostRegressor(),\n",
    "    'XGBoost': XGBRegressor()\n",
    "}\n",
    "\n",
    "all_scores = {}\n",
    "for model_name, model in models.items():\n",
    "    print(f'Treinando {model_name}...')\n",
    "    scores = train_and_validate_model(model, X_train, X_val, y_train, y_val)\n",
    "    all_scores[model_name] = scores\n",
    "\n",
    "print(\"\\nScores dos Modelos:\")\n",
    "all_scores"
   ]
  },
  {
   "cell_type": "markdown",
   "id": "98b02dce",
   "metadata": {},
   "source": [
    "Sobre os scores utilizados:\n",
    "\n",
    "- MSE (Mean Squared Error): Quanto menor, melhor. Representa o erro médio ao quadrado.\n",
    "- MAE (Mean Absolute Error): Quanto menor, melhor. Representa o erro médio absoluto.\n",
    "- RMSE (Root Mean Squared Error): Quanto menor, melhor. Representa a raiz quadrada do erro quadrático médio.\n",
    "- R² (Coeficiente de Determinação): Quanto maior, melhor. Mede a proporção da variância explicada pelo modelo."
   ]
  },
  {
   "cell_type": "markdown",
   "id": "bdf4fa68",
   "metadata": {},
   "source": [
    "Sendo assim, dos modelos acima, o melhor acabou sendo o `XGBoost`, pois tem as menores **MSE, MAE e RMSE**, ao mesmo tempo que possui o maior **R²**.\n",
    "\n",
    "Já os outros modelos, que não performaram tão bem, seria interessante tentar aplicar alguns hiperparâmetros, para ver se a performance consegue ficar ainda melhor que o XGBoost."
   ]
  },
  {
   "cell_type": "code",
   "execution_count": 25,
   "id": "def34e34",
   "metadata": {},
   "outputs": [],
   "source": [
    "param_grids = {\n",
    "    'SVR': {\n",
    "        'C': [1, 10, 100],\n",
    "        'epsilon': [0.01, 0.1, 0.2],\n",
    "        'kernel': ['linear', 'rbf'],\n",
    "        'gamma': ['scale', 'auto']\n",
    "    },\n",
    "    'RandomForestRegressor': {\n",
    "        'n_estimators': [100, 200],\n",
    "        'max_depth': [10, 20, None],\n",
    "        'min_samples_split': [2, 5],\n",
    "        'min_samples_leaf': [1, 2]\n",
    "    },\n",
    "    'GradientBoostingRegressor': {\n",
    "        'n_estimators': [50, 100],\n",
    "        'learning_rate': [0.05, 0.1, 0.2],\n",
    "        'max_depth': [3, 5],\n",
    "        'subsample': [0.8, 1.0]\n",
    "    },\n",
    "    'AdaBoostRegressor': {\n",
    "        'n_estimators': [50, 100],\n",
    "        'learning_rate': [0.01, 0.1, 1.0]\n",
    "    },\n",
    "    'XGBRegressor': {\n",
    "        'n_estimators': [100, 200, 300],\n",
    "        'max_depth': [3, 5, 7],\n",
    "        'learning_rate': [0.01, 0.1, 0.2],\n",
    "        'subsample': [0.6, 0.8, 1.0],\n",
    "        'colsample_bytree': [0.6, 0.8, 1.0],\n",
    "        'gamma': [0, 1, 5]\n",
    "    }\n",
    "}"
   ]
  },
  {
   "cell_type": "code",
   "execution_count": 26,
   "id": "1cdefef2",
   "metadata": {},
   "outputs": [
    {
     "name": "stdout",
     "output_type": "stream",
     "text": [
      "--- Treinando modelos com hiperparâmetros ---\n",
      "Treinando SVR...\n",
      "\tTreinando hiperparâmetros do modelo...\n",
      "\tMelhores parâmetros: {'C': 100, 'epsilon': 0.2, 'gamma': 'scale', 'kernel': 'rbf'}\n",
      "Treinando RandomForestRegressor...\n",
      "\tTreinando hiperparâmetros do modelo...\n",
      "\tMelhores parâmetros: {'max_depth': None, 'min_samples_leaf': 1, 'min_samples_split': 5, 'n_estimators': 200}\n",
      "Treinando GradientBoostingRegressor...\n",
      "\tTreinando hiperparâmetros do modelo...\n",
      "\tMelhores parâmetros: {'learning_rate': 0.2, 'max_depth': 5, 'n_estimators': 100, 'subsample': 0.8}\n",
      "Treinando AdaBoostRegressor...\n",
      "\tTreinando hiperparâmetros do modelo...\n",
      "\tMelhores parâmetros: {'learning_rate': 0.01, 'n_estimators': 100}\n",
      "Treinando XGBRegressor...\n",
      "\tTreinando hiperparâmetros do modelo...\n",
      "\tMelhores parâmetros: {'colsample_bytree': 1.0, 'gamma': 1, 'learning_rate': 0.1, 'max_depth': 7, 'n_estimators': 300, 'subsample': 0.8}\n",
      "\n",
      "Scores dos Modelos:\n"
     ]
    },
    {
     "data": {
      "text/plain": [
       "{'SVR': {'MSE': np.float64(16.70970245982774),\n",
       "  'MAE': np.float64(3.1245847354071143),\n",
       "  'RMSE': np.float64(4.087750293233154),\n",
       "  'R2': 0.9394287312262735},\n",
       " 'RandomForestRegressor': {'MSE': np.float64(12.449489890593371),\n",
       "  'MAE': np.float64(2.6426946022364257),\n",
       "  'RMSE': np.float64(3.5283834670558942),\n",
       "  'R2': 0.9548716441796716},\n",
       " 'GradientBoostingRegressor': {'MSE': np.float64(10.979161825458997),\n",
       "  'MAE': np.float64(2.487128649493443),\n",
       "  'RMSE': np.float64(3.3134818281467906),\n",
       "  'R2': 0.9602014599937424},\n",
       " 'AdaBoostRegressor': {'MSE': np.float64(23.51640449229246),\n",
       "  'MAE': np.float64(3.8064094859428583),\n",
       "  'RMSE': np.float64(4.849371556427952),\n",
       "  'R2': 0.914755007725673},\n",
       " 'XGBRegressor': {'MSE': np.float64(9.542753207938897),\n",
       "  'MAE': np.float64(2.2970720372602074),\n",
       "  'RMSE': np.float64(3.0891347021356803),\n",
       "  'R2': 0.9654083206574723}}"
      ]
     },
     "execution_count": 26,
     "metadata": {},
     "output_type": "execute_result"
    }
   ],
   "source": [
    "models = {\n",
    "    'SVR': SVR(),\n",
    "    'RandomForestRegressor': RandomForestRegressor(),\n",
    "    'GradientBoostingRegressor': GradientBoostingRegressor(),\n",
    "    'AdaBoostRegressor': AdaBoostRegressor(),\n",
    "    'XGBRegressor': XGBRegressor()\n",
    "}\n",
    "\n",
    "tuned_all_scores = {}\n",
    "best_params = {}\n",
    "print('--- Treinando modelos com hiperparâmetros ---')\n",
    "for model_name, model in models.items():\n",
    "    print(f'Treinando {model_name}...')\n",
    "    scores, params = train_and_validate_model(model, X_train, X_val, y_train, y_val, hyperparameters=param_grids[model_name])\n",
    "    tuned_all_scores[model_name] = scores\n",
    "    best_params[model_name] = params\n",
    "\n",
    "print(\"\\nScores dos Modelos:\")\n",
    "tuned_all_scores"
   ]
  },
  {
   "cell_type": "markdown",
   "id": "ae79e182",
   "metadata": {},
   "source": [
    "O melhor modelo continua sendo o mesmo, mas houve destaque para o `GradientBoostingRegressor`. Ele performou melhor que todos os outros modelos nas outras categorias, exceto quando comparado ao `XGBRegressor`.\n",
    "\n",
    "Dito isso, uma ideia que tivemos para tentar melhorar *ainda mais* o modelo final, optamos por criar um **Emsemble combinando os dois melhores**, criando um modelo ainda mais completo."
   ]
  },
  {
   "cell_type": "code",
   "execution_count": 27,
   "id": "2a57e5e3",
   "metadata": {},
   "outputs": [
    {
     "name": "stdout",
     "output_type": "stream",
     "text": [
      "XGBRegressor e GradientBoostingRegressor antes de tunar os hiperparâmetros:\n",
      "\tXGBoost: {'MSE': np.float64(10.813952922461926), 'MAE': np.float64(2.4181111422779993), 'RMSE': np.float64(3.2884575293687353), 'R2': 0.9608003283991676}\n",
      "\tGradientBoostingRegressor: {'MSE': np.float64(14.36516751720134), 'MAE': np.float64(2.971845397684129), 'RMSE': np.float64(3.790140830787339), 'R2': 0.9479274735887201}\n",
      "\n",
      "XGBRegressor e GradientBoostingRegressor DEPOIS de tunar os hiperparâmetros:\n",
      "\tXGBoost: {'MSE': np.float64(9.542753207938897), 'MAE': np.float64(2.2970720372602074), 'RMSE': np.float64(3.0891347021356803), 'R2': 0.9654083206574723}\n",
      "\tGradientBoostingRegressor: {'MSE': np.float64(10.979161825458997), 'MAE': np.float64(2.487128649493443), 'RMSE': np.float64(3.3134818281467906), 'R2': 0.9602014599937424}\n"
     ]
    }
   ],
   "source": [
    "print(\"XGBRegressor e GradientBoostingRegressor antes de tunar os hiperparâmetros:\")\n",
    "print(f\"\\tXGBoost: {all_scores['XGBoost']}\")\n",
    "print(f\"\\tGradientBoostingRegressor: {all_scores['GradientBoostingRegressor']}\")\n",
    "\n",
    "print(\"\\nXGBRegressor e GradientBoostingRegressor DEPOIS de tunar os hiperparâmetros:\")\n",
    "print(f\"\\tXGBoost: {tuned_all_scores['XGBRegressor']}\")\n",
    "print(f\"\\tGradientBoostingRegressor: {tuned_all_scores['GradientBoostingRegressor']}\")"
   ]
  },
  {
   "cell_type": "markdown",
   "id": "fa6cfbea",
   "metadata": {},
   "source": [
    "Ambos ficaram melhores após a tunagem, então usaremos eles para criar o ensemble.\n",
    "\n",
    "Utilizamos `weights` (pesos), fornecendo um valor maior para o XGB do que para o GB, já que ele está performando melhor."
   ]
  },
  {
   "cell_type": "code",
   "execution_count": 34,
   "id": "4ebe0644",
   "metadata": {},
   "outputs": [
    {
     "name": "stdout",
     "output_type": "stream",
     "text": [
      "Treinando VotingRegressor...\n",
      "Scores do Voting:\n"
     ]
    },
    {
     "data": {
      "text/plain": [
       "{'MSE': np.float64(9.465649976580275),\n",
       " 'MAE': np.float64(2.316138003067807),\n",
       " 'RMSE': np.float64(3.0766296456642737),\n",
       " 'R2': 0.9656878133989603}"
      ]
     },
     "execution_count": 34,
     "metadata": {},
     "output_type": "execute_result"
    }
   ],
   "source": [
    "xgb = XGBRegressor(**best_params['XGBRegressor'])\n",
    "gb = GradientBoostingRegressor(**best_params['GradientBoostingRegressor'])\n",
    "\n",
    "ensemble_model = VotingRegressor(estimators=[('xgb', xgb), ('gb', gb)], weights=[2, 1])\n",
    "\n",
    "print('Treinando VotingRegressor...')\n",
    "scores = train_and_validate_model(ensemble_model, X_train, X_val, y_train, y_val)\n",
    "\n",
    "print(\"Scores do Voting:\")\n",
    "scores"
   ]
  },
  {
   "cell_type": "markdown",
   "id": "3b557d2a",
   "metadata": {},
   "source": [
    "Ficou um pouco melhor do que o XGBRegressor. Vamos tentar colocar o 3° melhor modelo no meio também, para verificar se ficaria ainda melhor:"
   ]
  },
  {
   "cell_type": "code",
   "execution_count": 35,
   "id": "71e50257",
   "metadata": {},
   "outputs": [
    {
     "name": "stdout",
     "output_type": "stream",
     "text": [
      "Treinando VotingRegressor...\n",
      "Scores do Voting:\n"
     ]
    },
    {
     "data": {
      "text/plain": [
       "{'MSE': np.float64(9.378520080306663),\n",
       " 'MAE': np.float64(2.3030805166624138),\n",
       " 'RMSE': np.float64(3.0624369512377987),\n",
       " 'R2': 0.9660036519591084}"
      ]
     },
     "execution_count": 35,
     "metadata": {},
     "output_type": "execute_result"
    }
   ],
   "source": [
    "rf = RandomForestRegressor(**best_params['RandomForestRegressor'])\n",
    "\n",
    "ensemble_model_rf = VotingRegressor(estimators=[('xgb', xgb), ('gb', gb), ('rf', rf)], weights=[3, 2, 1])\n",
    "\n",
    "print('Treinando VotingRegressor...')\n",
    "scores = train_and_validate_model(ensemble_model, X_train, X_val, y_train, y_val)\n",
    "\n",
    "print(\"Scores do Voting:\")\n",
    "scores"
   ]
  },
  {
   "cell_type": "markdown",
   "id": "1bc86cc0",
   "metadata": {},
   "source": [
    "Não teve muita mudança com o Voting incluindo o Random Forest, ficando um pouco abaixo. Dessa forma, decidimos seguir com o voting anterior."
   ]
  },
  {
   "cell_type": "markdown",
   "id": "0d4c2341",
   "metadata": {},
   "source": [
    "Além disso, decidimos testar o SVR (que não performou tão bem) junto com esses outros modelos, pois o SVR acaba sendo mais 'diferente' que os outros, logo, talvez um stacking que aproveite ele seja mais eficiente no final."
   ]
  },
  {
   "cell_type": "code",
   "execution_count": null,
   "id": "8309d01f",
   "metadata": {},
   "outputs": [
    {
     "name": "stdout",
     "output_type": "stream",
     "text": [
      "Treinando StackingRegressor...\n",
      "Scores do Stacking:\n",
      "{'MSE': np.float64(9.300021223794863), 'MAE': np.float64(2.2852416729334526), 'RMSE': np.float64(3.049593616171647), 'R2': 0.9662882037246253}\n"
     ]
    }
   ],
   "source": [
    "from sklearn.ensemble import StackingRegressor\n",
    "from sklearn.linear_model import LinearRegression\n",
    "\n",
    "xgb = XGBRegressor(**best_params['XGBRegressor'])\n",
    "gb = GradientBoostingRegressor(**best_params['GradientBoostingRegressor'])\n",
    "rf = RandomForestRegressor(**best_params['RandomForestRegressor'])\n",
    "svr = SVR(**best_params['SVR'])\n",
    "\n",
    "meta_model = LinearRegression()\n",
    "\n",
    "stacking_model = StackingRegressor(estimators=[('xgb', xgb), ('gb', gb), ('rf', rf), ('svr', svr)], final_estimator=meta_model)\n",
    "\n",
    "print('Treinando StackingRegressor...')\n",
    "scores = train_and_validate_model(stacking_model, X_train, X_val, y_train, y_val)\n",
    "print(\"Scores do Stacking:\")\n",
    "print(scores)\n"
   ]
  },
  {
   "cell_type": "markdown",
   "id": "63443573",
   "metadata": {},
   "source": [
    "O Stacking ficou um pouco melhor que o melhor modelo de Voting."
   ]
  },
  {
   "cell_type": "markdown",
   "id": "567bd974",
   "metadata": {},
   "source": [
    "Sendo assim, no final, os melhores modelos foram, respectivamente:\n",
    "- Stacking com XGB + GB + Random Forest + SVR, utilizando LinearRegression como estimador\n",
    "- Voting com XGB + GB, colocando um maior peso no XGB\n",
    "- Modelo XGB com seus melhores hiperparâmetros"
   ]
  },
  {
   "cell_type": "markdown",
   "id": "823ed9e1",
   "metadata": {},
   "source": [
    "### Rodando no conjunto de teste"
   ]
  },
  {
   "cell_type": "code",
   "execution_count": 38,
   "id": "83adc6ea",
   "metadata": {},
   "outputs": [
    {
     "data": {
      "text/html": [
       "<div>\n",
       "<style scoped>\n",
       "    .dataframe tbody tr th:only-of-type {\n",
       "        vertical-align: middle;\n",
       "    }\n",
       "\n",
       "    .dataframe tbody tr th {\n",
       "        vertical-align: top;\n",
       "    }\n",
       "\n",
       "    .dataframe thead th {\n",
       "        text-align: right;\n",
       "    }\n",
       "</style>\n",
       "<table border=\"1\" class=\"dataframe\">\n",
       "  <thead>\n",
       "    <tr style=\"text-align: right;\">\n",
       "      <th></th>\n",
       "      <th>AT</th>\n",
       "      <th>EV</th>\n",
       "      <th>AP</th>\n",
       "    </tr>\n",
       "  </thead>\n",
       "  <tbody>\n",
       "    <tr>\n",
       "      <th>1712</th>\n",
       "      <td>15.43</td>\n",
       "      <td>39.64</td>\n",
       "      <td>1008.58</td>\n",
       "    </tr>\n",
       "    <tr>\n",
       "      <th>2459</th>\n",
       "      <td>24.30</td>\n",
       "      <td>69.23</td>\n",
       "      <td>1013.17</td>\n",
       "    </tr>\n",
       "    <tr>\n",
       "      <th>1340</th>\n",
       "      <td>24.22</td>\n",
       "      <td>61.86</td>\n",
       "      <td>1013.39</td>\n",
       "    </tr>\n",
       "  </tbody>\n",
       "</table>\n",
       "</div>"
      ],
      "text/plain": [
       "         AT     EV       AP\n",
       "1712  15.43  39.64  1008.58\n",
       "2459  24.30  69.23  1013.17\n",
       "1340  24.22  61.86  1013.39"
      ]
     },
     "execution_count": 38,
     "metadata": {},
     "output_type": "execute_result"
    }
   ],
   "source": [
    "test.sample(3)"
   ]
  },
  {
   "cell_type": "code",
   "execution_count": 40,
   "id": "2f927706",
   "metadata": {},
   "outputs": [
    {
     "name": "stdout",
     "output_type": "stream",
     "text": [
      "Prevendo PE com stacking_model...\n"
     ]
    }
   ],
   "source": [
    "# Necessário fit_transform ao invés de transform, já que as colunas são diferentes\n",
    "test_scaled = scaler.fit_transform(test)\n",
    "\n",
    "print('Prevendo PE com stacking_model...')\n",
    "y_pred = stacking_model.predict(test_scaled)"
   ]
  },
  {
   "cell_type": "code",
   "execution_count": 52,
   "id": "1677df18",
   "metadata": {},
   "outputs": [
    {
     "data": {
      "text/html": [
       "<div>\n",
       "<style scoped>\n",
       "    .dataframe tbody tr th:only-of-type {\n",
       "        vertical-align: middle;\n",
       "    }\n",
       "\n",
       "    .dataframe tbody tr th {\n",
       "        vertical-align: top;\n",
       "    }\n",
       "\n",
       "    .dataframe thead th {\n",
       "        text-align: right;\n",
       "    }\n",
       "</style>\n",
       "<table border=\"1\" class=\"dataframe\">\n",
       "  <thead>\n",
       "    <tr style=\"text-align: right;\">\n",
       "      <th></th>\n",
       "      <th>AT</th>\n",
       "      <th>EV</th>\n",
       "      <th>AP</th>\n",
       "      <th>PE</th>\n",
       "    </tr>\n",
       "  </thead>\n",
       "  <tbody>\n",
       "    <tr>\n",
       "      <th>0</th>\n",
       "      <td>19.64</td>\n",
       "      <td>48.06</td>\n",
       "      <td>1014.81</td>\n",
       "      <td>454.91</td>\n",
       "    </tr>\n",
       "    <tr>\n",
       "      <th>1</th>\n",
       "      <td>28.26</td>\n",
       "      <td>69.23</td>\n",
       "      <td>1013.01</td>\n",
       "      <td>436.14</td>\n",
       "    </tr>\n",
       "    <tr>\n",
       "      <th>2</th>\n",
       "      <td>27.98</td>\n",
       "      <td>67.17</td>\n",
       "      <td>1007.32</td>\n",
       "      <td>437.62</td>\n",
       "    </tr>\n",
       "    <tr>\n",
       "      <th>3</th>\n",
       "      <td>28.64</td>\n",
       "      <td>69.23</td>\n",
       "      <td>1013.11</td>\n",
       "      <td>436.45</td>\n",
       "    </tr>\n",
       "    <tr>\n",
       "      <th>4</th>\n",
       "      <td>9.34</td>\n",
       "      <td>38.08</td>\n",
       "      <td>1019.56</td>\n",
       "      <td>480.67</td>\n",
       "    </tr>\n",
       "    <tr>\n",
       "      <th>...</th>\n",
       "      <td>...</td>\n",
       "      <td>...</td>\n",
       "      <td>...</td>\n",
       "      <td>...</td>\n",
       "    </tr>\n",
       "    <tr>\n",
       "      <th>3153</th>\n",
       "      <td>22.12</td>\n",
       "      <td>57.19</td>\n",
       "      <td>1007.56</td>\n",
       "      <td>445.36</td>\n",
       "    </tr>\n",
       "    <tr>\n",
       "      <th>3154</th>\n",
       "      <td>9.59</td>\n",
       "      <td>38.56</td>\n",
       "      <td>1017.01</td>\n",
       "      <td>480.96</td>\n",
       "    </tr>\n",
       "    <tr>\n",
       "      <th>3155</th>\n",
       "      <td>31.38</td>\n",
       "      <td>71.32</td>\n",
       "      <td>1009.17</td>\n",
       "      <td>433.76</td>\n",
       "    </tr>\n",
       "    <tr>\n",
       "      <th>3156</th>\n",
       "      <td>12.38</td>\n",
       "      <td>45.51</td>\n",
       "      <td>1016.15</td>\n",
       "      <td>468.01</td>\n",
       "    </tr>\n",
       "    <tr>\n",
       "      <th>3157</th>\n",
       "      <td>22.35</td>\n",
       "      <td>65.61</td>\n",
       "      <td>1016.27</td>\n",
       "      <td>451.57</td>\n",
       "    </tr>\n",
       "  </tbody>\n",
       "</table>\n",
       "<p>3154 rows × 4 columns</p>\n",
       "</div>"
      ],
      "text/plain": [
       "         AT     EV       AP      PE\n",
       "0     19.64  48.06  1014.81  454.91\n",
       "1     28.26  69.23  1013.01  436.14\n",
       "2     27.98  67.17  1007.32  437.62\n",
       "3     28.64  69.23  1013.11  436.45\n",
       "4      9.34  38.08  1019.56  480.67\n",
       "...     ...    ...      ...     ...\n",
       "3153  22.12  57.19  1007.56  445.36\n",
       "3154   9.59  38.56  1017.01  480.96\n",
       "3155  31.38  71.32  1009.17  433.76\n",
       "3156  12.38  45.51  1016.15  468.01\n",
       "3157  22.35  65.61  1016.27  451.57\n",
       "\n",
       "[3154 rows x 4 columns]"
      ]
     },
     "execution_count": 52,
     "metadata": {},
     "output_type": "execute_result"
    }
   ],
   "source": [
    "test['PE'] = np.round(y_pred, 2)\n",
    "test"
   ]
  },
  {
   "cell_type": "code",
   "execution_count": 50,
   "id": "3d301eb1",
   "metadata": {},
   "outputs": [
    {
     "data": {
      "text/html": [
       "<div>\n",
       "<style scoped>\n",
       "    .dataframe tbody tr th:only-of-type {\n",
       "        vertical-align: middle;\n",
       "    }\n",
       "\n",
       "    .dataframe tbody tr th {\n",
       "        vertical-align: top;\n",
       "    }\n",
       "\n",
       "    .dataframe thead th {\n",
       "        text-align: right;\n",
       "    }\n",
       "</style>\n",
       "<table border=\"1\" class=\"dataframe\">\n",
       "  <thead>\n",
       "    <tr style=\"text-align: right;\">\n",
       "      <th></th>\n",
       "      <th>AT</th>\n",
       "      <th>EV</th>\n",
       "      <th>AP</th>\n",
       "      <th>PE</th>\n",
       "    </tr>\n",
       "  </thead>\n",
       "  <tbody>\n",
       "    <tr>\n",
       "      <th>0</th>\n",
       "      <td>29.95</td>\n",
       "      <td>73.42</td>\n",
       "      <td>1011.44</td>\n",
       "      <td>432.81</td>\n",
       "    </tr>\n",
       "    <tr>\n",
       "      <th>1</th>\n",
       "      <td>5.76</td>\n",
       "      <td>40.07</td>\n",
       "      <td>1013.22</td>\n",
       "      <td>494.67</td>\n",
       "    </tr>\n",
       "    <tr>\n",
       "      <th>2</th>\n",
       "      <td>29.44</td>\n",
       "      <td>64.33</td>\n",
       "      <td>1011.40</td>\n",
       "      <td>442.32</td>\n",
       "    </tr>\n",
       "    <tr>\n",
       "      <th>3</th>\n",
       "      <td>32.83</td>\n",
       "      <td>74.33</td>\n",
       "      <td>1011.44</td>\n",
       "      <td>427.36</td>\n",
       "    </tr>\n",
       "    <tr>\n",
       "      <th>4</th>\n",
       "      <td>16.86</td>\n",
       "      <td>39.63</td>\n",
       "      <td>1004.47</td>\n",
       "      <td>466.68</td>\n",
       "    </tr>\n",
       "    <tr>\n",
       "      <th>...</th>\n",
       "      <td>...</td>\n",
       "      <td>...</td>\n",
       "      <td>...</td>\n",
       "      <td>...</td>\n",
       "    </tr>\n",
       "    <tr>\n",
       "      <th>6405</th>\n",
       "      <td>23.39</td>\n",
       "      <td>61.87</td>\n",
       "      <td>1010.35</td>\n",
       "      <td>444.03</td>\n",
       "    </tr>\n",
       "    <tr>\n",
       "      <th>6406</th>\n",
       "      <td>11.63</td>\n",
       "      <td>40.55</td>\n",
       "      <td>1022.89</td>\n",
       "      <td>474.67</td>\n",
       "    </tr>\n",
       "    <tr>\n",
       "      <th>6407</th>\n",
       "      <td>27.79</td>\n",
       "      <td>69.23</td>\n",
       "      <td>1012.86</td>\n",
       "      <td>435.06</td>\n",
       "    </tr>\n",
       "    <tr>\n",
       "      <th>6408</th>\n",
       "      <td>12.26</td>\n",
       "      <td>41.50</td>\n",
       "      <td>1014.87</td>\n",
       "      <td>471.13</td>\n",
       "    </tr>\n",
       "    <tr>\n",
       "      <th>6409</th>\n",
       "      <td>11.75</td>\n",
       "      <td>40.55</td>\n",
       "      <td>1018.09</td>\n",
       "      <td>472.43</td>\n",
       "    </tr>\n",
       "  </tbody>\n",
       "</table>\n",
       "<p>6341 rows × 4 columns</p>\n",
       "</div>"
      ],
      "text/plain": [
       "         AT     EV       AP      PE\n",
       "0     29.95  73.42  1011.44  432.81\n",
       "1      5.76  40.07  1013.22  494.67\n",
       "2     29.44  64.33  1011.40  442.32\n",
       "3     32.83  74.33  1011.44  427.36\n",
       "4     16.86  39.63  1004.47  466.68\n",
       "...     ...    ...      ...     ...\n",
       "6405  23.39  61.87  1010.35  444.03\n",
       "6406  11.63  40.55  1022.89  474.67\n",
       "6407  27.79  69.23  1012.86  435.06\n",
       "6408  12.26  41.50  1014.87  471.13\n",
       "6409  11.75  40.55  1018.09  472.43\n",
       "\n",
       "[6341 rows x 4 columns]"
      ]
     },
     "execution_count": 50,
     "metadata": {},
     "output_type": "execute_result"
    }
   ],
   "source": [
    "train"
   ]
  },
  {
   "cell_type": "markdown",
   "id": "b5dfb8af",
   "metadata": {},
   "source": [
    "O nosso conjunto de dados não permite criar um score com os valores finais previstos de PE e os valores reais, pois ele exclui a coluna PE do dataset de testes. Mesmo assim, podemos verificar se o PE está mantendo seu padrão ao analisar, novamente, as correlações anteriores e compará-lo com o que temos no conjunto de treino."
   ]
  },
  {
   "cell_type": "code",
   "execution_count": 66,
   "id": "6ceae2ca",
   "metadata": {},
   "outputs": [
    {
     "data": {
      "image/png": "[encoded data removed]",
      "text/plain": [
       "<Figure size 1200x800 with 2 Axes>"
      ]
     },
     "metadata": {},
     "output_type": "display_data"
    }
   ],
   "source": [
    "test_correlation_matrix = test.corr(method='pearson')\n",
    "\n",
    "plt.figure(figsize=(12, 8))\n",
    "sns.heatmap(test_correlation_matrix, annot=True, cmap='coolwarm', fmt=\".3f\", linewidths=0.5, cbar_kws={\"shrink\": 0.8})\n",
    "plt.title(\"Matriz de Correlação das Variáveis - Pearson\")\n",
    "plt.show()"
   ]
  },
  {
   "cell_type": "code",
   "execution_count": 48,
   "id": "8ed23bc0",
   "metadata": {},
   "outputs": [
    {
     "data": {
      "image/png": "[encoded data removed]",
      "text/plain": [
       "<Figure size 1000x600 with 1 Axes>"
      ]
     },
     "metadata": {},
     "output_type": "display_data"
    }
   ],
   "source": [
    "plt.figure(figsize=(10, 6))\n",
    "\n",
    "test_sorted = test.sort_values(by='AT')\n",
    "\n",
    "plt.plot(test_sorted['AT'], test_sorted['PE'], label='PE', color='blue')\n",
    "plt.plot(test_sorted['AT'], test_sorted['AT'], label='AT', color='red')\n",
    "\n",
    "plt.title('Correlação entre AT e PE', fontsize=14)\n",
    "plt.xlabel('AT', fontsize=12)\n",
    "plt.ylabel('PE', fontsize=12)\n",
    "\n",
    "plt.legend()\n",
    "plt.grid(True)\n",
    "plt.show()"
   ]
  },
  {
   "cell_type": "markdown",
   "id": "26bd555e",
   "metadata": {},
   "source": [
    "Os resultados são bem parecidos. Além disso, lá no começo do notebook vimos que os datasets de treino e teste possuem valores repetidos quando retiramos a coluna 'PE' e, mesmo assim, ao tentar ver se há algum resultado idêntico/duplicado com nossos novos valores de PE, nenhum se repete - ou seja, não está dando overfitting"
   ]
  },
  {
   "cell_type": "code",
   "execution_count": 68,
   "id": "76ac090f",
   "metadata": {},
   "outputs": [
    {
     "data": {
      "text/html": [
       "<div>\n",
       "<style scoped>\n",
       "    .dataframe tbody tr th:only-of-type {\n",
       "        vertical-align: middle;\n",
       "    }\n",
       "\n",
       "    .dataframe tbody tr th {\n",
       "        vertical-align: top;\n",
       "    }\n",
       "\n",
       "    .dataframe thead th {\n",
       "        text-align: right;\n",
       "    }\n",
       "</style>\n",
       "<table border=\"1\" class=\"dataframe\">\n",
       "  <thead>\n",
       "    <tr style=\"text-align: right;\">\n",
       "      <th></th>\n",
       "      <th></th>\n",
       "      <th>AT</th>\n",
       "      <th>EV</th>\n",
       "      <th>AP</th>\n",
       "      <th>PE</th>\n",
       "    </tr>\n",
       "  </thead>\n",
       "  <tbody>\n",
       "  </tbody>\n",
       "</table>\n",
       "</div>"
      ],
      "text/plain": [
       "Empty DataFrame\n",
       "Columns: [AT, EV, AP, PE]\n",
       "Index: []"
      ]
     },
     "execution_count": 68,
     "metadata": {},
     "output_type": "execute_result"
    }
   ],
   "source": [
    "concat_test = pd.concat([train, test], keys=['train', 'test'])\n",
    "concat_test[concat_test.duplicated()]"
   ]
  },
  {
   "cell_type": "markdown",
   "id": "c8074a6f",
   "metadata": {},
   "source": [
    "Esse foi nosso **modelo supervisionado**! Ele pode nos ajudar a prever a geração de energia de usinas térmicas, ajudando essas empresas a terem uma noção sobre possíveis gastos com a energia, ou até mesmo prever danos no meio ambiente ao identificar um alto consumo.\n",
    "\n",
    "> O modelo não-supervisionado foi separado em outro arquivo, para facilitar a visualização"
   ]
  }
 ],
 "metadata": {
  "kernelspec": {
   "display_name": ".venv",
   "language": "python",
   "name": "python3"
  },
  "language_info": {
   "codemirror_mode": {
    "name": "ipython",
    "version": 3
   },
   "file_extension": ".py",
   "mimetype": "text/x-python",
   "name": "python",
   "nbconvert_exporter": "python",
   "pygments_lexer": "ipython3",
   "version": "3.11.10"
  }
 },
 "nbformat": 4,
 "nbformat_minor": 5
}
